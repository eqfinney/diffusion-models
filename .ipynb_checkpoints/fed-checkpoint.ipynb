{
 "cells": [
  {
   "cell_type": "code",
   "execution_count": 1,
   "metadata": {
    "collapsed": true
   },
   "outputs": [],
   "source": [
    "import numpy as np"
   ]
  },
  {
   "cell_type": "code",
   "execution_count": 6,
   "metadata": {},
   "outputs": [
    {
     "name": "stderr",
     "output_type": "stream",
     "text": [
      "E...\n",
      "======================================================================\n",
      "ERROR: test_fed_tau_by_process_time (__main__.TestFED)\n",
      "----------------------------------------------------------------------\n",
      "Traceback (most recent call last):\n",
      "  File \"<ipython-input-6-cd60aae6f206>\", line 7, in test_fed_tau_by_process_time\n",
      "    N, tau = fed_tau_by_process_time(500.0, M, 0.5)\n",
      "NameError: global name 'fed_tau_by_process_time' is not defined\n",
      "\n",
      "----------------------------------------------------------------------\n",
      "Ran 4 tests in 0.007s\n",
      "\n",
      "FAILED (errors=1)\n"
     ]
    },
    {
     "data": {
      "text/plain": [
       "<unittest.main.TestProgram at 0x10a6d8890>"
      ]
     },
     "execution_count": 6,
     "metadata": {},
     "output_type": "execute_result"
    }
   ],
   "source": [
    "import unittest\n",
    "\n",
    "class TestFED(unittest.TestCase):\n",
    "\n",
    "    def test_fed_tau_by_process_time(self):\n",
    "        M = 5\n",
    "        N, tau = fed_tau_by_process_time(500.0, M, 0.5)\n",
    "        expected = np.array(1, N)\n",
    "        assert np.shape(expected) == np.shape(tau), \n",
    "        \"We didn't get the expected tau value\"\n",
    "\n",
    "unittest.main(argv=[''], exit=False)"
   ]
  },
  {
   "cell_type": "code",
   "execution_count": null,
   "metadata": {
    "collapsed": true
   },
   "outputs": [],
   "source": [
    "def _fed_tau_internal(n, scale, tau_max, reordering, tau):\n",
    "    pass"
   ]
  }
 ],
 "metadata": {
  "kernelspec": {
   "display_name": "Python 2",
   "language": "python",
   "name": "python2"
  },
  "language_info": {
   "codemirror_mode": {
    "name": "ipython",
    "version": 2
   },
   "file_extension": ".py",
   "mimetype": "text/x-python",
   "name": "python",
   "nbconvert_exporter": "python",
   "pygments_lexer": "ipython2",
   "version": "2.7.13"
  }
 },
 "nbformat": 4,
 "nbformat_minor": 2
}
