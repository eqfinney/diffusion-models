{
 "cells": [
  {
   "cell_type": "code",
   "execution_count": 19,
   "metadata": {
    "collapsed": true
   },
   "outputs": [],
   "source": [
    "import numpy as np"
   ]
  },
  {
   "cell_type": "code",
   "execution_count": 35,
   "metadata": {},
   "outputs": [
    {
     "name": "stderr",
     "output_type": "stream",
     "text": [
      "E...\n",
      "======================================================================\n",
      "ERROR: test_fed_tau_by_process_time (__main__.TestFED)\n",
      "----------------------------------------------------------------------\n",
      "Traceback (most recent call last):\n",
      "  File \"<ipython-input-35-af4f65385431>\", line 6, in test_fed_tau_by_process_time\n",
      "    N, tau = fed_tau_by_process_time(500.0, 5, 0.5, True)\n",
      "  File \"<ipython-input-33-b883d473ac91>\", line 3, in fed_tau_by_process_time\n",
      "    N, tau = fed_tau_by_cycle_time(cycle_time, stability, reorder_flag)\n",
      "  File \"<ipython-input-34-2e74bf02d8db>\", line 7, in fed_tau_by_cycle_time\n",
      "    reorder_flag)\n",
      "TypeError: 'NoneType' object is not iterable\n",
      "\n",
      "----------------------------------------------------------------------\n",
      "Ran 4 tests in 0.016s\n",
      "\n",
      "FAILED (errors=1)\n"
     ]
    },
    {
     "data": {
      "text/plain": [
       "<unittest.main.TestProgram at 0x10a7c3e50>"
      ]
     },
     "execution_count": 35,
     "metadata": {},
     "output_type": "execute_result"
    }
   ],
   "source": [
    "import unittest\n",
    "\n",
    "class TestFED(unittest.TestCase):\n",
    "\n",
    "    def test_fed_tau_by_process_time(self):\n",
    "        N, tau = fed_tau_by_process_time(500.0, 5, 0.5, True)\n",
    "        self.assertEquals(N, np.size(tau))\n",
    "        expected = [0.283858,0.456195,1.327985,60.901379,0.250257,\n",
    "                    0.298989,0.516557,1.775248,0.252327,0.318043,\n",
    "                    0.594955,2.517796,0.256534,0.341871,0.698839,\n",
    "                    3.885568,0.263024,0.371646,0.840030,6.841508,\n",
    "                    0.272022,0.408991,1.038190,15.288122,]\n",
    "        self.assertEquals(tau, expected)\n",
    "        \n",
    "        \n",
    "unittest.main(argv=[''], exit=False)"
   ]
  },
  {
   "cell_type": "code",
   "execution_count": 32,
   "metadata": {
    "collapsed": true
   },
   "outputs": [],
   "source": [
    "def _fed_tau_internal(num_time_steps, scale, stability, reorder_flag):\n",
    "    "
   ]
  },
  {
   "cell_type": "code",
   "execution_count": 33,
   "metadata": {
    "collapsed": true
   },
   "outputs": [],
   "source": [
    "def fed_tau_by_process_time(stop_time, num_cycles, stability, reorder_flag):\n",
    "    cycle_time = stop_time/num_cycles\n",
    "    N, tau = fed_tau_by_cycle_time(cycle_time, stability, reorder_flag)\n",
    "    return N, tau"
   ]
  },
  {
   "cell_type": "code",
   "execution_count": 34,
   "metadata": {
    "collapsed": true
   },
   "outputs": [],
   "source": [
    "def fed_tau_by_cycle_time(stop_time, stability, reorder_flag):\n",
    "    num_time_steps = int(np.ceil(np.sqrt(3.*stop_time / stability + 0.25)\n",
    "                                 -0.5 - 1.e-8) + 0.5)\n",
    "    scale = 3.*stop_time / (stability*float(num_time_steps*(num_time_steps\n",
    "                                                            +1)))\n",
    "    N, tau = _fed_tau_internal(num_time_steps, scale, stability, \n",
    "                               reorder_flag)\n",
    "    return N, tau"
   ]
  },
  {
   "cell_type": "code",
   "execution_count": null,
   "metadata": {
    "collapsed": true
   },
   "outputs": [],
   "source": []
  }
 ],
 "metadata": {
  "kernelspec": {
   "display_name": "Python 2",
   "language": "python",
   "name": "python2"
  },
  "language_info": {
   "codemirror_mode": {
    "name": "ipython",
    "version": 2
   },
   "file_extension": ".py",
   "mimetype": "text/x-python",
   "name": "python",
   "nbconvert_exporter": "python",
   "pygments_lexer": "ipython2",
   "version": "2.7.13"
  }
 },
 "nbformat": 4,
 "nbformat_minor": 2
}
